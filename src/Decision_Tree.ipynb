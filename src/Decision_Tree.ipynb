{
  "nbformat": 4,
  "nbformat_minor": 0,
  "metadata": {
    "colab": {
      "name": "Decision Tree.ipynb",
      "provenance": [],
      "authorship_tag": "ABX9TyM3qLISiVtZYT8SqWTRJ6nJ",
      "include_colab_link": true
    },
    "kernelspec": {
      "name": "python3",
      "display_name": "Python 3"
    }
  },
  "cells": [
    {
      "cell_type": "markdown",
      "metadata": {
        "id": "view-in-github",
        "colab_type": "text"
      },
      "source": [
        "<a href=\"https://colab.research.google.com/github/wqiu96/summer_project/blob/master/src/Decision_Tree.ipynb\" target=\"_parent\"><img src=\"https://colab.research.google.com/assets/colab-badge.svg\" alt=\"Open In Colab\"/></a>"
      ]
    },
    {
      "cell_type": "code",
      "metadata": {
        "id": "MtNAhS1uxGS0",
        "colab_type": "code",
        "colab": {
          "base_uri": "https://localhost:8080/",
          "height": 122
        },
        "outputId": "5e132fed-93d5-4545-bd05-f3abbc058bf0"
      },
      "source": [
        "!pip install yfinance\n",
        "!wget http://prdownloads.sourceforge.net/ta-lib/ta-lib-0.4.0-src.tar.gz \n",
        "!tar xvzf ta-lib-0.4.0-src.tar.gz\n",
        "import os\n",
        "os.chdir('ta-lib') # Can't use !cd in co-lab\n",
        "!./configure --prefix=/usr\n",
        "!make\n",
        "!make install\n",
        "os.chdir('../')\n",
        "!pip install TA-Lib"
      ],
      "execution_count": 2,
      "outputs": [
        {
          "output_type": "stream",
          "text": [
            "  Building wheel for TA-Lib (setup.py) ... \u001b[?25l\u001b[?25hdone\n",
            "  Created wheel for TA-Lib: filename=TA_Lib-0.4.17-cp36-cp36m-linux_x86_64.whl size=2405552 sha256=af88837a4f71ce945b1d7a37886308a9c17d7dab94dbf60dd712959785576f34\n",
            "  Stored in directory: /root/.cache/pip/wheels/2a/2e/ec/71c565b2e0091e03a2b56abfbfd062f14a01a8d7b20ffe8bd5\n",
            "Successfully built TA-Lib\n",
            "Installing collected packages: TA-Lib\n",
            "Successfully installed TA-Lib-0.4.17\n"
          ],
          "name": "stdout"
        }
      ]
    },
    {
      "cell_type": "code",
      "metadata": {
        "id": "wlI8-RyjkzIt",
        "colab_type": "code",
        "colab": {}
      },
      "source": [
        "import yfinance as yf\n",
        "import talib as ta\n",
        "import time\n",
        "from datetime import datetime,timedelta"
      ],
      "execution_count": 0,
      "outputs": []
    },
    {
      "cell_type": "code",
      "metadata": {
        "id": "Nq9_-xHi0kET",
        "colab_type": "code",
        "colab": {}
      },
      "source": [
        "d1= datetime.now()\n",
        "d2 = d1 + timedelta(days=-7)\n",
        "start = d2.strftime('%Y-%m-%d')\n",
        "end = d1.strftime('%Y-%m-%d')"
      ],
      "execution_count": 0,
      "outputs": []
    },
    {
      "cell_type": "code",
      "metadata": {
        "id": "b5g6k6DNvhi-",
        "colab_type": "code",
        "colab": {}
      },
      "source": [
        "SP500 = yf.Ticker('^GSPC')\n",
        "df = SP500.history(start = \"2020-02-18\", end = '2020-02-25' , interval='1m')"
      ],
      "execution_count": 0,
      "outputs": []
    },
    {
      "cell_type": "code",
      "metadata": {
        "id": "wqp7xvUwrnPP",
        "colab_type": "code",
        "colab": {}
      },
      "source": [
        "df['EMA10'] = ta.EMA(df['Close'].values, timeperiod=10)\n",
        "df['EMA30'] = ta.EMA(df['Close'].values, timeperiod=30)\n",
        "df['ATR'] = ta.ATR(df['High'].values, df['Low'].values, df['Close'].values, timeperiod=14)\n",
        "df['ADX'] = ta.ADX(df['High'].values, df['Low'].values, df['Close'].values, timeperiod=14)\n",
        "df['RSI'] = ta.RSI(df['Close'].values, timeperiod=14)"
      ],
      "execution_count": 0,
      "outputs": []
    }
  ]
}