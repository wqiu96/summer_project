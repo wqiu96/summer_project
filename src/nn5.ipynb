{
  "nbformat": 4,
  "nbformat_minor": 0,
  "metadata": {
    "colab": {
      "name": "nn5.ipynb",
      "provenance": [],
      "include_colab_link": true
    },
    "kernelspec": {
      "name": "python3",
      "display_name": "Python 3"
    }
  },
  "cells": [
    {
      "cell_type": "markdown",
      "metadata": {
        "id": "view-in-github",
        "colab_type": "text"
      },
      "source": [
        "<a href=\"https://colab.research.google.com/github/wqiu96/summer_project/blob/master/src/nn5.ipynb\" target=\"_parent\"><img src=\"https://colab.research.google.com/assets/colab-badge.svg\" alt=\"Open In Colab\"/></a>"
      ]
    },
    {
      "cell_type": "code",
      "metadata": {
        "id": "dwhHX5J3z-89",
        "colab_type": "code",
        "outputId": "7d97f8ac-0c6b-435d-8b12-d80a7b1932fa",
        "colab": {
          "base_uri": "https://localhost:8080/",
          "height": 134
        }
      },
      "source": [
        "!git clone https://github.com/wqiu96/summer_project.git"
      ],
      "execution_count": 1,
      "outputs": [
        {
          "output_type": "stream",
          "text": [
            "Cloning into 'summer_project'...\n",
            "remote: Enumerating objects: 134, done.\u001b[K\n",
            "remote: Counting objects: 100% (134/134), done.\u001b[K\n",
            "remote: Compressing objects: 100% (134/134), done.\u001b[K\n",
            "remote: Total 771 (delta 76), reused 0 (delta 0), pack-reused 637\u001b[K\n",
            "Receiving objects: 100% (771/771), 2.77 MiB | 31.84 MiB/s, done.\n",
            "Resolving deltas: 100% (403/403), done.\n"
          ],
          "name": "stdout"
        }
      ]
    },
    {
      "cell_type": "code",
      "metadata": {
        "id": "BJIYmRn70Edr",
        "colab_type": "code",
        "outputId": "4270261c-a4c3-4e7d-d86f-c5b138cc6ca6",
        "colab": {
          "base_uri": "https://localhost:8080/",
          "height": 33
        }
      },
      "source": [
        "cd summer_project/src/"
      ],
      "execution_count": 2,
      "outputs": [
        {
          "output_type": "stream",
          "text": [
            "/content/summer_project/src\n"
          ],
          "name": "stdout"
        }
      ]
    },
    {
      "cell_type": "code",
      "metadata": {
        "id": "Qyv_ETAM0HYd",
        "colab_type": "code",
        "outputId": "c5526dc0-1775-42db-ded0-0f622bdd3a59",
        "colab": {
          "base_uri": "https://localhost:8080/",
          "height": 385
        }
      },
      "source": [
        "pip install ipdb"
      ],
      "execution_count": 3,
      "outputs": [
        {
          "output_type": "stream",
          "text": [
            "Collecting ipdb\n",
            "  Downloading https://files.pythonhosted.org/packages/5c/01/27427b1f4a97455b345297a48761544bc8e7fb1f3aef6904ec86ddf75f65/ipdb-0.12.3.tar.gz\n",
            "Requirement already satisfied: setuptools in /usr/local/lib/python3.6/dist-packages (from ipdb) (42.0.2)\n",
            "Requirement already satisfied: ipython>=5.1.0 in /usr/local/lib/python3.6/dist-packages (from ipdb) (5.5.0)\n",
            "Requirement already satisfied: prompt-toolkit<2.0.0,>=1.0.4 in /usr/local/lib/python3.6/dist-packages (from ipython>=5.1.0->ipdb) (1.0.18)\n",
            "Requirement already satisfied: simplegeneric>0.8 in /usr/local/lib/python3.6/dist-packages (from ipython>=5.1.0->ipdb) (0.8.1)\n",
            "Requirement already satisfied: decorator in /usr/local/lib/python3.6/dist-packages (from ipython>=5.1.0->ipdb) (4.4.1)\n",
            "Requirement already satisfied: pygments in /usr/local/lib/python3.6/dist-packages (from ipython>=5.1.0->ipdb) (2.1.3)\n",
            "Requirement already satisfied: traitlets>=4.2 in /usr/local/lib/python3.6/dist-packages (from ipython>=5.1.0->ipdb) (4.3.3)\n",
            "Requirement already satisfied: pexpect; sys_platform != \"win32\" in /usr/local/lib/python3.6/dist-packages (from ipython>=5.1.0->ipdb) (4.7.0)\n",
            "Requirement already satisfied: pickleshare in /usr/local/lib/python3.6/dist-packages (from ipython>=5.1.0->ipdb) (0.7.5)\n",
            "Requirement already satisfied: six>=1.9.0 in /usr/local/lib/python3.6/dist-packages (from prompt-toolkit<2.0.0,>=1.0.4->ipython>=5.1.0->ipdb) (1.12.0)\n",
            "Requirement already satisfied: wcwidth in /usr/local/lib/python3.6/dist-packages (from prompt-toolkit<2.0.0,>=1.0.4->ipython>=5.1.0->ipdb) (0.1.8)\n",
            "Requirement already satisfied: ipython-genutils in /usr/local/lib/python3.6/dist-packages (from traitlets>=4.2->ipython>=5.1.0->ipdb) (0.2.0)\n",
            "Requirement already satisfied: ptyprocess>=0.5 in /usr/local/lib/python3.6/dist-packages (from pexpect; sys_platform != \"win32\"->ipython>=5.1.0->ipdb) (0.6.0)\n",
            "Building wheels for collected packages: ipdb\n",
            "  Building wheel for ipdb (setup.py) ... \u001b[?25l\u001b[?25hdone\n",
            "  Created wheel for ipdb: filename=ipdb-0.12.3-cp36-none-any.whl size=9223 sha256=85ed00ea3b831e75914ff34996c02f4cd3f3d805923eaab1bed9400c8b9c544a\n",
            "  Stored in directory: /root/.cache/pip/wheels/57/43/c5/614153606de8f5e358e266723f53254e70752f4ffc8c85ec63\n",
            "Successfully built ipdb\n",
            "Installing collected packages: ipdb\n",
            "Successfully installed ipdb-0.12.3\n"
          ],
          "name": "stdout"
        }
      ]
    },
    {
      "cell_type": "code",
      "metadata": {
        "id": "29GrTfMNAuy1",
        "colab_type": "code",
        "colab": {}
      },
      "source": [
        "import numpy as np\n",
        "import time\n",
        "import ipdb\n",
        "import torch\n",
        "import torch.nn as nn\n",
        "import itertools\n",
        "import matplotlib.pyplot as plt\n",
        "\n",
        "import itertools\n",
        "def deep_iter(*shape):\n",
        "    iters = (range(i) for i in shape)\n",
        "    return itertools.product(*iters)\n",
        "        \n",
        "        \n",
        "\n",
        "class Pde:\n",
        "    def __init__(\n",
        "            self,\n",
        "            dim=1,\n",
        "            lam=0.0,\n",
        "            drift = lambda s,a: np.array([0.]),\n",
        "            run_cost = lambda s,a: -1.0,\n",
        "            term_cost = lambda s: sum(map(lambda a: 0.5*a**2 - 0.5*a, s)),\n",
        "            limit_s = 1.0, #l-infinity limit for state\n",
        "            limit_a = 0, #l-infinity limit for action\n",
        "            verbose=True\n",
        "    ):\n",
        "        self.dim = dim\n",
        "        self.lam = lam\n",
        "        self.drift = drift\n",
        "        self.run_cost = run_cost\n",
        "        self.term_cost = term_cost            \n",
        "        self.limit_s = limit_s\n",
        "        self.limit_a = limit_a\n",
        "\n",
        "        if verbose:\n",
        "            print(str(dim) + '-dim HJB')\n",
        "    \n",
        "    #domain is a unit hyper cube        \n",
        "    def is_interior(self, s):\n",
        "        return all(0<s<1)\n",
        "    \n",
        "    #cfd2mdp\n",
        "    def mdp(self, n_mesh_s = 8, n_mesh_a = 16, method='cfd'):\n",
        "        out = {}\n",
        "        \n",
        "        ####domain of mdp\n",
        "        h_s = self.limit_s/n_mesh_s #mesh size in state\n",
        "        h_a = self.limit_a/n_mesh_a #mesh size in action\n",
        "        self.v_shape = tuple([n_mesh_s + 1]*self.dim)\n",
        "        self.a_shape = tuple([n_mesh_a + 1]*self.dim)\n",
        "        \n",
        "        def is_interior(*ix_s):\n",
        "            return all([0<x<n_mesh_s for x in ix_s])\n",
        "        \n",
        "        out.update({\n",
        "                'v_shape': self.v_shape,\n",
        "                'a_shape': self.a_shape,\n",
        "                'is_interior': is_interior,\n",
        "                'n_mesh_s':n_mesh_s\n",
        "                })\n",
        "        ####domain\n",
        " \n",
        "       # convert index(tuple) to state\n",
        "        def i2s(*ix): \n",
        "            return np.array([x * h_s for x in ix])       \n",
        "        out['i2s'] = i2s\n",
        "        #convert index to action\n",
        "        def i2a(*ix):\n",
        "            return np.array([x * h_a for x in ix])\n",
        "        #out['i2a'] = i2a\n",
        "\n",
        "\n",
        "       \n",
        "        ########running and terminal costs and discount rate\n",
        "        def run_cost(ix_s,ix_a):\n",
        "            return self.run_cost(i2s(*ix_s), i2a(*ix_a))*h_s**2/self.dim\n",
        "        \n",
        "        def term_cost(ix_s):\n",
        "            return self.term_cost(i2s(*ix_s))\n",
        "        \n",
        "        rate = self.dim/(self.dim+self.lam*(h_s**2))\n",
        "        out.update({\n",
        "                'run_cost': run_cost,\n",
        "                'term_cost': term_cost,\n",
        "                'rate': rate\n",
        "                })\n",
        "        #########\n",
        "        \n",
        "        #####transition\n",
        "        #return:\n",
        "        #   a list of nbd indices\n",
        "        #   a list of prob\n",
        "        def step(ix_s, ix_a):\n",
        "            ix_next_s_up = (np.array(ix_s)+np.eye(self.dim)).astype(int).tolist()\n",
        "            ix_next_s_dn = (np.array(ix_s)-np.eye(self.dim)).astype(int).tolist()\n",
        "            ix_next_s = [tuple(ix) for ix in ix_next_s_up+ix_next_s_dn]\n",
        "            \n",
        "            pr=[]\n",
        "            if method == 'cfd':\n",
        "                b = self.drift(i2s(*ix_s), i2a(*ix_a))\n",
        "                pr_up = ((1+2.*h_s*b)/self.dim/2.0).tolist()\n",
        "                pr_dn = ((1-2.*h_s*b)/self.dim/2.0).tolist()\n",
        "                pr = pr_up+pr_dn\n",
        "            \n",
        "            return ix_next_s, pr, run_cost(ix_s,ix_a)\n",
        "        out.update({'step': step,\n",
        "                    'dim': self.dim})\n",
        "\n",
        "        \n",
        "        def bellman(ix, ia, v):\n",
        "            s = i2s(*ix)\n",
        "            disc = rate\n",
        "            ix_next, pr_next,run_h = step(ix,ia)\n",
        "            lhs = v(torch.FloatTensor(s)); rhs = 0.\n",
        "            #ipdb.set_trace()\n",
        "            if is_interior(*ix):            \n",
        "                rhs += run_h \n",
        "                for ix1, pr1 in zip(ix_next, pr_next):\n",
        "                    rhs += pr1*v(torch.FloatTensor(i2s(*ix1)))\n",
        "                rhs *= disc\n",
        "                res = (rhs - lhs)\n",
        "            else:\n",
        "                rhs = self.term_cost(ix)\n",
        "                res = (rhs - lhs)\n",
        "            return res\n",
        "        out.update({\n",
        "                'bellman': bellman\n",
        "                })\n",
        "    \n",
        "        return out\n",
        "\n",
        "def solver(mdp, n_epoch = 500):\n",
        "    ######### nn for value\n",
        "    # Linear regression model\n",
        "    value = nn.Sequential(\n",
        "        nn.Linear(mdp['dim'], 2*mdp['dim']+10),\n",
        "        nn.ReLU(),\n",
        "        nn.Linear(2*mdp['dim']+10, 1),\n",
        "    )   \n",
        "    print(value)\n",
        "    #loss\n",
        "    def tot_loss():\n",
        "        out = 0.\n",
        "      \n",
        "        for ix in deep_iter(*mdp['v_shape']):\n",
        "          out += (mdp['term_cost'](ix) - value(torch.FloatTensor(mdp['i2s'](*ix))))**2\n",
        "\n",
        "        return out#/mdp.v_size_\n",
        "    \n",
        "    print_n = 10\n",
        "    epoch_per_print= int(n_epoch/print_n)\n",
        "    \n",
        "    start_time = time.time()\n",
        "    for epoch in range(n_epoch):\n",
        "        #ipdb.set_trace()\n",
        "        loss = tot_loss() #forward pass\n",
        "        #backward propogation\n",
        "        # optimizer\n",
        "        lr = max(1/((epoch+100.)), .0001)\n",
        "        optimizer = torch.optim.SGD(value.parameters(), lr, momentum = .8) \n",
        "        optimizer.zero_grad()\n",
        "        loss.backward()\n",
        "        optimizer.step()\n",
        "        \n",
        "        if (epoch) % epoch_per_print == 0:\n",
        "          print('Epoch [{}/{}], Loss: {:.4f}'.format(\n",
        "                  epoch+1, n_epoch, loss.item()))\n",
        "        if loss.item()<0.0002:\n",
        "            break\n",
        "    end_time = time.time()\n",
        "    print('>>>time elapsed is: ' + str(end_time - start_time))\n",
        "    return value"
      ],
      "execution_count": 0,
      "outputs": []
    },
    {
      "cell_type": "code",
      "metadata": {
        "id": "8w0bNTJB0OuN",
        "colab_type": "code",
        "outputId": "d7a2f28f-3841-4acd-fb91-0b7c0477331b",
        "colab": {
          "base_uri": "https://localhost:8080/",
          "height": 549
        }
      },
      "source": [
        "torch.manual_seed(0)\n",
        "p = Pde(dim=1) \n",
        "m = p.mdp(n_mesh_s= 16)\n",
        "value = solver(m, n_epoch=1000)\n",
        "######check solution\n",
        "err =0\n",
        "for ix1 in deep_iter(*m['v_shape']):\n",
        "    s1 = m['i2s'](*ix1)\n",
        "    v1 = value(torch.FloatTensor(s1)).item()\n",
        "    exact_v1 =p.term_cost(s1) \n",
        "    err1 = v1-exact_v1\n",
        "    err += err1**2\n",
        "\n",
        "#err = err/m.v_size_\n",
        "#print('>>>L2-error-norm: '+str(err))\n",
        "\n",
        "\n",
        "if p.dim ==1:\n",
        "    cod_x = []; cod_y=[]; cod_y_pred = []\n",
        "    for ix1 in deep_iter(*m['v_shape']):\n",
        "        s1 = m['i2s'](*ix1); cod_x += [s1,]\n",
        "        v1 = value(torch.FloatTensor(s1)).item(); cod_y_pred += [v1,]\n",
        "        exact_v1 =p.term_cost(s1); cod_y += [exact_v1,]\n",
        "\n",
        "    plt.plot(cod_x, cod_y, cod_x, cod_y_pred)\n"
      ],
      "execution_count": 26,
      "outputs": [
        {
          "output_type": "stream",
          "text": [
            "1-dim HJB\n",
            "Sequential(\n",
            "  (0): Linear(in_features=1, out_features=12, bias=True)\n",
            "  (1): ReLU()\n",
            "  (2): Linear(in_features=12, out_features=1, bias=True)\n",
            ")\n",
            "Epoch [1/1000], Loss: 4.7156\n",
            "Epoch [101/1000], Loss: 0.0264\n",
            "Epoch [201/1000], Loss: 0.0212\n",
            "Epoch [301/1000], Loss: 0.0194\n",
            "Epoch [401/1000], Loss: 0.0184\n",
            "Epoch [501/1000], Loss: 0.0176\n",
            "Epoch [601/1000], Loss: 0.0170\n",
            "Epoch [701/1000], Loss: 0.0166\n",
            "Epoch [801/1000], Loss: 0.0161\n",
            "Epoch [901/1000], Loss: 0.0158\n",
            ">>>time elapsed is: 4.345966339111328\n"
          ],
          "name": "stdout"
        },
        {
          "output_type": "display_data",
          "data": {
            "image/png": "[encoded data removed]",
            "text/plain": [
              "<Figure size 432x288 with 1 Axes>"
            ]
          },
          "metadata": {
            "tags": []
          }
        }
      ]
    },
    {
      "cell_type": "code",
      "metadata": {
        "id": "k6vdIASX6bmC",
        "colab_type": "code",
        "outputId": "18f3d46e-450c-41dd-c673-9600d263f7d5",
        "colab": {
          "base_uri": "https://localhost:8080/",
          "height": 265
        }
      },
      "source": [
        "\n",
        "if p.dim ==1:\n",
        "    cod_x = []; cod_y=[]; cod_y_pred = []\n",
        "    for ix1 in deep_iter(*m['v_shape']):\n",
        "        s1 = m['i2s'](*ix1); cod_x += [s1,]\n",
        "        v1 = value(torch.FloatTensor(s1)).item(); cod_y_pred += [v1,]\n",
        "        exact_v1 =p.term_cost(s1); cod_y += [exact_v1,]\n",
        "\n",
        "    plt.plot(cod_x, cod_y_pred)"
      ],
      "execution_count": 6,
      "outputs": [
        {
          "output_type": "display_data",
          "data": {
            "image/png": "[encoded data removed]",
            "text/plain": [
              "<Figure size 432x288 with 1 Axes>"
            ]
          },
          "metadata": {
            "tags": []
          }
        }
      ]
    },
    {
      "cell_type": "code",
      "metadata": {
        "id": "t1Rh7a0HIwqj",
        "colab_type": "code",
        "outputId": "1f6b40d7-d8eb-4e3d-ac27-99053251cb39",
        "colab": {
          "base_uri": "https://localhost:8080/",
          "height": 281
        }
      },
      "source": [
        "plt.plot(cod_x, cod_y)"
      ],
      "execution_count": 7,
      "outputs": [
        {
          "output_type": "execute_result",
          "data": {
            "text/plain": [
              "[<matplotlib.lines.Line2D at 0x7fe231d2da58>]"
            ]
          },
          "metadata": {
            "tags": []
          },
          "execution_count": 7
        },
        {
          "output_type": "display_data",
          "data": {
            "image/png": "[encoded data removed]",
            "text/plain": [
              "<Figure size 432x288 with 1 Axes>"
            ]
          },
          "metadata": {
            "tags": []
          }
        }
      ]
    }
  ]
}