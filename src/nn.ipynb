{
  "nbformat": 4,
  "nbformat_minor": 0,
  "metadata": {
    "colab": {
      "name": "nn.ipynb",
      "provenance": [],
      "include_colab_link": true
    },
    "kernelspec": {
      "name": "python3",
      "display_name": "Python 3"
    }
  },
  "cells": [
    {
      "cell_type": "markdown",
      "metadata": {
        "id": "view-in-github",
        "colab_type": "text"
      },
      "source": [
        "<a href=\"https://colab.research.google.com/github/wqiu96/summer_project/blob/master/src/nn.ipynb\" target=\"_parent\"><img src=\"https://colab.research.google.com/assets/colab-badge.svg\" alt=\"Open In Colab\"/></a>"
      ]
    },
    {
      "cell_type": "code",
      "metadata": {
        "id": "dwhHX5J3z-89",
        "colab_type": "code",
        "colab": {
          "base_uri": "https://localhost:8080/",
          "height": 134
        },
        "outputId": "625ba8d3-1274-4b1e-9715-8daee06ff2bd"
      },
      "source": [
        "!git clone https://github.com/wqiu96/summer_project.git"
      ],
      "execution_count": 16,
      "outputs": [
        {
          "output_type": "stream",
          "text": [
            "Cloning into 'summer_project'...\n",
            "remote: Enumerating objects: 41, done.\u001b[K\n",
            "remote: Counting objects: 100% (41/41), done.\u001b[K\n",
            "remote: Compressing objects: 100% (41/41), done.\u001b[K\n",
            "remote: Total 678 (delta 13), reused 0 (delta 0), pack-reused 637\u001b[K\n",
            "Receiving objects: 100% (678/678), 2.55 MiB | 2.72 MiB/s, done.\n",
            "Resolving deltas: 100% (340/340), done.\n"
          ],
          "name": "stdout"
        }
      ]
    },
    {
      "cell_type": "code",
      "metadata": {
        "id": "BJIYmRn70Edr",
        "colab_type": "code",
        "colab": {
          "base_uri": "https://localhost:8080/",
          "height": 33
        },
        "outputId": "e5b0a285-a318-4ef7-99fe-e71d5ce89062"
      },
      "source": [
        "cd summer_project/src/"
      ],
      "execution_count": 18,
      "outputs": [
        {
          "output_type": "stream",
          "text": [
            "/content/foo1/src/summer_project/src\n"
          ],
          "name": "stdout"
        }
      ]
    },
    {
      "cell_type": "code",
      "metadata": {
        "id": "Qyv_ETAM0HYd",
        "colab_type": "code",
        "colab": {
          "base_uri": "https://localhost:8080/",
          "height": 271
        },
        "outputId": "2782666a-5f6a-428d-a0d9-578c12167a95"
      },
      "source": [
        "pip install ipdb"
      ],
      "execution_count": 19,
      "outputs": [
        {
          "output_type": "stream",
          "text": [
            "Requirement already satisfied: ipdb in /usr/local/lib/python3.6/dist-packages (0.12.3)\n",
            "Requirement already satisfied: ipython>=5.1.0; python_version >= \"3.4\" in /usr/local/lib/python3.6/dist-packages (from ipdb) (5.5.0)\n",
            "Requirement already satisfied: setuptools in /usr/local/lib/python3.6/dist-packages (from ipdb) (42.0.2)\n",
            "Requirement already satisfied: pygments in /usr/local/lib/python3.6/dist-packages (from ipython>=5.1.0; python_version >= \"3.4\"->ipdb) (2.1.3)\n",
            "Requirement already satisfied: simplegeneric>0.8 in /usr/local/lib/python3.6/dist-packages (from ipython>=5.1.0; python_version >= \"3.4\"->ipdb) (0.8.1)\n",
            "Requirement already satisfied: pexpect; sys_platform != \"win32\" in /usr/local/lib/python3.6/dist-packages (from ipython>=5.1.0; python_version >= \"3.4\"->ipdb) (4.7.0)\n",
            "Requirement already satisfied: pickleshare in /usr/local/lib/python3.6/dist-packages (from ipython>=5.1.0; python_version >= \"3.4\"->ipdb) (0.7.5)\n",
            "Requirement already satisfied: decorator in /usr/local/lib/python3.6/dist-packages (from ipython>=5.1.0; python_version >= \"3.4\"->ipdb) (4.4.1)\n",
            "Requirement already satisfied: prompt-toolkit<2.0.0,>=1.0.4 in /usr/local/lib/python3.6/dist-packages (from ipython>=5.1.0; python_version >= \"3.4\"->ipdb) (1.0.18)\n",
            "Requirement already satisfied: traitlets>=4.2 in /usr/local/lib/python3.6/dist-packages (from ipython>=5.1.0; python_version >= \"3.4\"->ipdb) (4.3.3)\n",
            "Requirement already satisfied: ptyprocess>=0.5 in /usr/local/lib/python3.6/dist-packages (from pexpect; sys_platform != \"win32\"->ipython>=5.1.0; python_version >= \"3.4\"->ipdb) (0.6.0)\n",
            "Requirement already satisfied: wcwidth in /usr/local/lib/python3.6/dist-packages (from prompt-toolkit<2.0.0,>=1.0.4->ipython>=5.1.0; python_version >= \"3.4\"->ipdb) (0.1.8)\n",
            "Requirement already satisfied: six>=1.9.0 in /usr/local/lib/python3.6/dist-packages (from prompt-toolkit<2.0.0,>=1.0.4->ipython>=5.1.0; python_version >= \"3.4\"->ipdb) (1.12.0)\n",
            "Requirement already satisfied: ipython-genutils in /usr/local/lib/python3.6/dist-packages (from traitlets>=4.2->ipython>=5.1.0; python_version >= \"3.4\"->ipdb) (0.2.0)\n"
          ],
          "name": "stdout"
        }
      ]
    },
    {
      "cell_type": "code",
      "metadata": {
        "id": "GqDqs_Lh0Loh",
        "colab_type": "code",
        "colab": {}
      },
      "source": [
        "from hjb_mdp_01 import *"
      ],
      "execution_count": 0,
      "outputs": []
    },
    {
      "cell_type": "code",
      "metadata": {
        "id": "0_gP5qHpBEW4",
        "colab_type": "code",
        "colab": {}
      },
      "source": [
        ""
      ],
      "execution_count": 0,
      "outputs": []
    },
    {
      "cell_type": "code",
      "metadata": {
        "id": "x0H_QTuO90ck",
        "colab_type": "code",
        "colab": {}
      },
      "source": [
        "def solver(mdp, n_epoch = 500):\n",
        "    ######### nn for value\n",
        "    # Linear regression model\n",
        "    value = nn.Sequential(\n",
        "        nn.Linear(mdp.n_dim_, 2*mdp.n_dim_+10),\n",
        "        nn.sin(),\n",
        "        nn.Linear(2*mdp.n_dim_+10, 1),\n",
        "    )   \n",
        "    print(value)\n",
        "    \n",
        "    #loss\n",
        "    def tot_loss():\n",
        "        out = 0.\n",
        "        for ix in deep_iter(*mdp.v_shape_):\n",
        "            out += mdp.bellman(ix,value)**2\n",
        "        return out#/mdp.v_size_\n",
        "    \n",
        "    print_n = 10\n",
        "    epoch_per_print= int(n_epoch/print_n)\n",
        "    \n",
        "    start_time = time.time()\n",
        "    for epoch in range(n_epoch):\n",
        "        #ipdb.set_trace()\n",
        "        loss = tot_loss() #forward pass\n",
        "        #backward propogation\n",
        "        # optimizer\n",
        "        lr = max(1/(epoch+10.), .001)\n",
        "        optimizer = torch.optim.SGD(value.parameters(), lr, momentum = .8) \n",
        "        optimizer.zero_grad()\n",
        "        loss.backward()\n",
        "        optimizer.step()\n",
        "        \n",
        "        if (epoch+1) % epoch_per_print == 0:\n",
        "          print('Epoch [{}/{}], Loss: {:.4f}'.format(\n",
        "                  epoch+1, n_epoch, loss.item()))\n",
        "        if loss.item()<0.0002:\n",
        "            break\n",
        "    end_time = time.time()\n",
        "    print('>>>time elapsed is: ' + str(end_time - start_time))\n",
        "    return value"
      ],
      "execution_count": 0,
      "outputs": []
    },
    {
      "cell_type": "code",
      "metadata": {
        "id": "8w0bNTJB0OuN",
        "colab_type": "code",
        "colab": {
          "base_uri": "https://localhost:8080/",
          "height": 619
        },
        "outputId": "de02cff4-a184-4fa5-e228-2124626ec0b4"
      },
      "source": [
        "torch.manual_seed(0)\n",
        "p = Pde(n_dim_=1); m = Mdp(p, n_mesh_= 8, method='cfd')\n",
        "value = solver(m, n_epoch=500000)\n",
        "######check solution\n",
        "err =0\n",
        "for ix1 in deep_iter(*m.v_shape_):\n",
        "    s1 = m.i2s(ix1)\n",
        "    v1 = value(torch.FloatTensor(s1)).item()\n",
        "    exact_v1 =p.exact_soln(s1) \n",
        "    err1 = v1-exact_v1\n",
        "    err += err1**2\n",
        "\n",
        "err = err/m.v_size_\n",
        "print('>>>L2-error-norm: '+str(err))\n",
        "\n",
        "\n",
        "if p.n_dim_==1:\n",
        "    cod_x = []; cod_y=[]; cod_y_pred = []\n",
        "    for ix1 in deep_iter(*m.v_shape_):\n",
        "        s1 = m.i2s(ix1); cod_x += [s1,]\n",
        "        v1 = value(torch.FloatTensor(s1)).item(); cod_y_pred += [v1,]\n",
        "        exact_v1 =p.exact_soln(s1); cod_y += [exact_v1,]\n",
        "\n",
        "    plt.plot(cod_x, cod_y, cod_x, cod_y_pred)\n",
        "\n",
        "print(cod_y_pred)"
      ],
      "execution_count": 5,
      "outputs": [
        {
          "output_type": "stream",
          "text": [
            ">>>>Elliptic Linear PDE with 1-dim\n",
            ">>>>MDP with 1-dim 8 mesh num\n",
            "Sequential(\n",
            "  (0): Linear(in_features=1, out_features=12, bias=True)\n",
            "  (1): ReLU()\n",
            "  (2): Linear(in_features=12, out_features=1, bias=True)\n",
            ")\n",
            "Epoch [50000/500000], Loss: 0.0014\n",
            "Epoch [100000/500000], Loss: 0.0013\n",
            "Epoch [150000/500000], Loss: 0.0013\n",
            "Epoch [200000/500000], Loss: 0.0012\n",
            "Epoch [250000/500000], Loss: 0.0012\n",
            "Epoch [300000/500000], Loss: 0.0011\n",
            "Epoch [350000/500000], Loss: 0.0011\n",
            "Epoch [400000/500000], Loss: 0.0011\n",
            "Epoch [450000/500000], Loss: 0.0011\n",
            "Epoch [500000/500000], Loss: 0.0010\n",
            ">>>time elapsed is: 2399.320469856262\n",
            ">>>L2-error-norm: 0.01465772646607085\n",
            "[0.25012916326522827, 0.23226134479045868, 0.21439355611801147, 0.19652576744556427, 0.17865797877311707, 0.16079017519950867, 0.16824939846992493, 0.2002153992652893, 0.2499033510684967]\n"
          ],
          "name": "stdout"
        },
        {
          "output_type": "display_data",
          "data": {
            "image/png": "[encoded data removed]",
            "text/plain": [
              "<Figure size 432x288 with 1 Axes>"
            ]
          },
          "metadata": {
            "tags": []
          }
        }
      ]
    }
  ]
}