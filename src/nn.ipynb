{
  "nbformat": 4,
  "nbformat_minor": 0,
  "metadata": {
    "colab": {
      "name": "nn.ipynb",
      "provenance": [],
      "include_colab_link": true
    },
    "kernelspec": {
      "name": "python3",
      "display_name": "Python 3"
    }
  },
  "cells": [
    {
      "cell_type": "markdown",
      "metadata": {
        "id": "view-in-github",
        "colab_type": "text"
      },
      "source": [
        "<a href=\"https://colab.research.google.com/github/wqiu96/summer_project/blob/master/src/nn.ipynb\" target=\"_parent\"><img src=\"https://colab.research.google.com/assets/colab-badge.svg\" alt=\"Open In Colab\"/></a>"
      ]
    },
    {
      "cell_type": "code",
      "metadata": {
        "id": "dwhHX5J3z-89",
        "colab_type": "code",
        "outputId": "8d034034-4bc9-451e-e05a-2d80c08bd559",
        "colab": {
          "base_uri": "https://localhost:8080/",
          "height": 134
        }
      },
      "source": [
        "!git clone https://github.com/wqiu96/summer_project.git"
      ],
      "execution_count": 6,
      "outputs": [
        {
          "output_type": "stream",
          "text": [
            "Cloning into 'summer_project'...\n",
            "remote: Enumerating objects: 118, done.\u001b[K\n",
            "remote: Counting objects:   0% (1/118)\u001b[K\rremote: Counting objects:   1% (2/118)\u001b[K\rremote: Counting objects:   2% (3/118)\u001b[K\rremote: Counting objects:   3% (4/118)\u001b[K\rremote: Counting objects:   4% (5/118)\u001b[K\rremote: Counting objects:   5% (6/118)\u001b[K\rremote: Counting objects:   6% (8/118)\u001b[K\rremote: Counting objects:   7% (9/118)\u001b[K\rremote: Counting objects:   8% (10/118)\u001b[K\rremote: Counting objects:   9% (11/118)\u001b[K\rremote: Counting objects:  10% (12/118)\u001b[K\rremote: Counting objects:  11% (13/118)\u001b[K\rremote: Counting objects:  12% (15/118)\u001b[K\rremote: Counting objects:  13% (16/118)\u001b[K\rremote: Counting objects:  14% (17/118)\u001b[K\rremote: Counting objects:  15% (18/118)\u001b[K\rremote: Counting objects:  16% (19/118)\u001b[K\rremote: Counting objects:  17% (21/118)\u001b[K\rremote: Counting objects:  18% (22/118)\u001b[K\rremote: Counting objects:  19% (23/118)\u001b[K\rremote: Counting objects:  20% (24/118)\u001b[K\rremote: Counting objects:  21% (25/118)\u001b[K\rremote: Counting objects:  22% (26/118)\u001b[K\rremote: Counting objects:  23% (28/118)\u001b[K\rremote: Counting objects:  24% (29/118)\u001b[K\rremote: Counting objects:  25% (30/118)\u001b[K\rremote: Counting objects:  26% (31/118)\u001b[K\rremote: Counting objects:  27% (32/118)\u001b[K\rremote: Counting objects:  28% (34/118)\u001b[K\rremote: Counting objects:  29% (35/118)\u001b[K\rremote: Counting objects:  30% (36/118)\u001b[K\rremote: Counting objects:  31% (37/118)\u001b[K\rremote: Counting objects:  32% (38/118)\u001b[K\rremote: Counting objects:  33% (39/118)\u001b[K\rremote: Counting objects:  34% (41/118)\u001b[K\rremote: Counting objects:  35% (42/118)\u001b[K\rremote: Counting objects:  36% (43/118)\u001b[K\rremote: Counting objects:  37% (44/118)\u001b[K\rremote: Counting objects:  38% (45/118)\u001b[K\rremote: Counting objects:  39% (47/118)\u001b[K\rremote: Counting objects:  40% (48/118)\u001b[K\rremote: Counting objects:  41% (49/118)\u001b[K\rremote: Counting objects:  42% (50/118)\u001b[K\rremote: Counting objects:  43% (51/118)\u001b[K\rremote: Counting objects:  44% (52/118)\u001b[K\rremote: Counting objects:  45% (54/118)\u001b[K\rremote: Counting objects:  46% (55/118)\u001b[K\rremote: Counting objects:  47% (56/118)\u001b[K\rremote: Counting objects:  48% (57/118)\u001b[K\rremote: Counting objects:  49% (58/118)\u001b[K\rremote: Counting objects:  50% (59/118)\u001b[K\rremote: Counting objects:  51% (61/118)\u001b[K\rremote: Counting objects:  52% (62/118)\u001b[K\rremote: Counting objects:  53% (63/118)\u001b[K\rremote: Counting objects:  54% (64/118)\u001b[K\rremote: Counting objects:  55% (65/118)\u001b[K\rremote: Counting objects:  56% (67/118)\u001b[K\rremote: Counting objects:  57% (68/118)\u001b[K\rremote: Counting objects:  58% (69/118)\u001b[K\rremote: Counting objects:  59% (70/118)\u001b[K\rremote: Counting objects:  60% (71/118)\u001b[K\rremote: Counting objects:  61% (72/118)\u001b[K\rremote: Counting objects:  62% (74/118)\u001b[K\rremote: Counting objects:  63% (75/118)\u001b[K\rremote: Counting objects:  64% (76/118)\u001b[K\rremote: Counting objects:  65% (77/118)\u001b[K\rremote: Counting objects:  66% (78/118)\u001b[K\rremote: Counting objects:  67% (80/118)\u001b[K\rremote: Counting objects:  68% (81/118)\u001b[K\rremote: Counting objects:  69% (82/118)\u001b[K\rremote: Counting objects:  70% (83/118)\u001b[K\rremote: Counting objects:  71% (84/118)\u001b[K\rremote: Counting objects:  72% (85/118)\u001b[K\rremote: Counting objects:  73% (87/118)\u001b[K\rremote: Counting objects:  74% (88/118)\u001b[K\rremote: Counting objects:  75% (89/118)\u001b[K\rremote: Counting objects:  76% (90/118)\u001b[K\rremote: Counting objects:  77% (91/118)\u001b[K\rremote: Counting objects:  78% (93/118)\u001b[K\rremote: Counting objects:  79% (94/118)\u001b[K\rremote: Counting objects:  80% (95/118)\u001b[K\rremote: Counting objects:  81% (96/118)\u001b[K\rremote: Counting objects:  82% (97/118)\u001b[K\rremote: Counting objects:  83% (98/118)\u001b[K\rremote: Counting objects:  84% (100/118)\u001b[K\rremote: Counting objects:  85% (101/118)\u001b[K\rremote: Counting objects:  86% (102/118)\u001b[K\rremote: Counting objects:  87% (103/118)\u001b[K\rremote: Counting objects:  88% (104/118)\u001b[K\rremote: Counting objects:  89% (106/118)\u001b[K\rremote: Counting objects:  90% (107/118)\u001b[K\rremote: Counting objects:  91% (108/118)\u001b[K\rremote: Counting objects:  92% (109/118)\u001b[K\rremote: Counting objects:  93% (110/118)\u001b[K\rremote: Counting objects:  94% (111/118)\u001b[K\rremote: Counting objects:  95% (113/118)\u001b[K\rremote: Counting objects:  96% (114/118)\u001b[K\rremote: Counting objects:  97% (115/118)\u001b[K\rremote: Counting objects:  98% (116/118)\u001b[K\rremote: Counting objects:  99% (117/118)\u001b[K\rremote: Counting objects: 100% (118/118)\u001b[K\rremote: Counting objects: 100% (118/118), done.\u001b[K\n",
            "remote: Compressing objects:   0% (1/118)\u001b[K\rremote: Compressing objects:   1% (2/118)\u001b[K\rremote: Compressing objects:   2% (3/118)\u001b[K\rremote: Compressing objects:   3% (4/118)\u001b[K\rremote: Compressing objects:   4% (5/118)\u001b[K\rremote: Compressing objects:   5% (6/118)\u001b[K\rremote: Compressing objects:   6% (8/118)\u001b[K\rremote: Compressing objects:   7% (9/118)\u001b[K\rremote: Compressing objects:   8% (10/118)\u001b[K\rremote: Compressing objects:   9% (11/118)\u001b[K\rremote: Compressing objects:  10% (12/118)\u001b[K\rremote: Compressing objects:  11% (13/118)\u001b[K\rremote: Compressing objects:  12% (15/118)\u001b[K\rremote: Compressing objects:  13% (16/118)\u001b[K\rremote: Compressing objects:  14% (17/118)\u001b[K\rremote: Compressing objects:  15% (18/118)\u001b[K\rremote: Compressing objects:  16% (19/118)\u001b[K\rremote: Compressing objects:  17% (21/118)\u001b[K\rremote: Compressing objects:  18% (22/118)\u001b[K\rremote: Compressing objects:  19% (23/118)\u001b[K\rremote: Compressing objects:  20% (24/118)\u001b[K\rremote: Compressing objects:  21% (25/118)\u001b[K\rremote: Compressing objects:  22% (26/118)\u001b[K\rremote: Compressing objects:  23% (28/118)\u001b[K\rremote: Compressing objects:  24% (29/118)\u001b[K\rremote: Compressing objects:  25% (30/118)\u001b[K\rremote: Compressing objects:  26% (31/118)\u001b[K\rremote: Compressing objects:  27% (32/118)\u001b[K\rremote: Compressing objects:  28% (34/118)\u001b[K\rremote: Compressing objects:  29% (35/118)\u001b[K\rremote: Compressing objects:  30% (36/118)\u001b[K\rremote: Compressing objects:  31% (37/118)\u001b[K\rremote: Compressing objects:  32% (38/118)\u001b[K\rremote: Compressing objects:  33% (39/118)\u001b[K\rremote: Compressing objects:  34% (41/118)\u001b[K\rremote: Compressing objects:  35% (42/118)\u001b[K\rremote: Compressing objects:  36% (43/118)\u001b[K\rremote: Compressing objects:  37% (44/118)\u001b[K\rremote: Compressing objects:  38% (45/118)\u001b[K\rremote: Compressing objects:  39% (47/118)\u001b[K\rremote: Compressing objects:  40% (48/118)\u001b[K\rremote: Compressing objects:  41% (49/118)\u001b[K\rremote: Compressing objects:  42% (50/118)\u001b[K\rremote: Compressing objects:  43% (51/118)\u001b[K\rremote: Compressing objects:  44% (52/118)\u001b[K\rremote: Compressing objects:  45% (54/118)\u001b[K\rremote: Compressing objects:  46% (55/118)\u001b[K\rremote: Compressing objects:  47% (56/118)\u001b[K\rremote: Compressing objects:  48% (57/118)\u001b[K\rremote: Compressing objects:  49% (58/118)\u001b[K\rremote: Compressing objects:  50% (59/118)\u001b[K\rremote: Compressing objects:  51% (61/118)\u001b[K\rremote: Compressing objects:  52% (62/118)\u001b[K\rremote: Compressing objects:  53% (63/118)\u001b[K\rremote: Compressing objects:  54% (64/118)\u001b[K\rremote: Compressing objects:  55% (65/118)\u001b[K\rremote: Compressing objects:  56% (67/118)\u001b[K\rremote: Compressing objects:  57% (68/118)\u001b[K\rremote: Compressing objects:  58% (69/118)\u001b[K\rremote: Compressing objects:  59% (70/118)\u001b[K\rremote: Compressing objects:  60% (71/118)\u001b[K\rremote: Compressing objects:  61% (72/118)\u001b[K\rremote: Compressing objects:  62% (74/118)\u001b[K\rremote: Compressing objects:  63% (75/118)\u001b[K\rremote: Compressing objects:  64% (76/118)\u001b[K\rremote: Compressing objects:  65% (77/118)\u001b[K\rremote: Compressing objects:  66% (78/118)\u001b[K\rremote: Compressing objects:  67% (80/118)\u001b[K\rremote: Compressing objects:  68% (81/118)\u001b[K\rremote: Compressing objects:  69% (82/118)\u001b[K\rremote: Compressing objects:  70% (83/118)\u001b[K\rremote: Compressing objects:  71% (84/118)\u001b[K\rremote: Compressing objects:  72% (85/118)\u001b[K\rremote: Compressing objects:  73% (87/118)\u001b[K\rremote: Compressing objects:  74% (88/118)\u001b[K\rremote: Compressing objects:  75% (89/118)\u001b[K\rremote: Compressing objects:  76% (90/118)\u001b[K\rremote: Compressing objects:  77% (91/118)\u001b[K\rremote: Compressing objects:  78% (93/118)\u001b[K\rremote: Compressing objects:  79% (94/118)\u001b[K\rremote: Compressing objects:  80% (95/118)\u001b[K\rremote: Compressing objects:  81% (96/118)\u001b[K\rremote: Compressing objects:  82% (97/118)\u001b[K\rremote: Compressing objects:  83% (98/118)\u001b[K\rremote: Compressing objects:  84% (100/118)\u001b[K\rremote: Compressing objects:  85% (101/118)\u001b[K\rremote: Compressing objects:  86% (102/118)\u001b[K\rremote: Compressing objects:  87% (103/118)\u001b[K\rremote: Compressing objects:  88% (104/118)\u001b[K\rremote: Compressing objects:  89% (106/118)\u001b[K\rremote: Compressing objects:  90% (107/118)\u001b[K\rremote: Compressing objects:  91% (108/118)\u001b[K\rremote: Compressing objects:  92% (109/118)\u001b[K\rremote: Compressing objects:  93% (110/118)\u001b[K\rremote: Compressing objects:  94% (111/118)\u001b[K\rremote: Compressing objects:  95% (113/118)\u001b[K\rremote: Compressing objects:  96% (114/118)\u001b[K\rremote: Compressing objects:  97% (115/118)\u001b[K\rremote: Compressing objects:  98% (116/118)\u001b[K\rremote: Compressing objects:  99% (117/118)\u001b[K\rremote: Compressing objects: 100% (118/118)\u001b[K\rremote: Compressing objects: 100% (118/118), done.\u001b[K\n",
            "Receiving objects:   0% (1/755)   \rReceiving objects:   1% (8/755)   \rReceiving objects:   2% (16/755)   \rReceiving objects:   3% (23/755)   \rReceiving objects:   4% (31/755)   \rReceiving objects:   5% (38/755)   \rReceiving objects:   6% (46/755)   \rReceiving objects:   7% (53/755)   \rReceiving objects:   8% (61/755)   \rReceiving objects:   9% (68/755)   \rReceiving objects:  10% (76/755)   \rReceiving objects:  11% (84/755)   \rReceiving objects:  12% (91/755)   \rReceiving objects:  13% (99/755)   \rReceiving objects:  14% (106/755)   \rReceiving objects:  15% (114/755)   \rReceiving objects:  16% (121/755)   \rReceiving objects:  17% (129/755)   \rReceiving objects:  18% (136/755)   \rReceiving objects:  19% (144/755)   \rReceiving objects:  20% (151/755)   \rReceiving objects:  21% (159/755)   \rReceiving objects:  22% (167/755)   \rReceiving objects:  23% (174/755)   \rReceiving objects:  24% (182/755)   \rReceiving objects:  25% (189/755)   \rReceiving objects:  26% (197/755)   \rReceiving objects:  27% (204/755)   \rReceiving objects:  28% (212/755)   \rReceiving objects:  29% (219/755)   \rReceiving objects:  30% (227/755)   \rReceiving objects:  31% (235/755)   \rReceiving objects:  32% (242/755)   \rReceiving objects:  33% (250/755)   \rReceiving objects:  34% (257/755)   \rReceiving objects:  35% (265/755)   \rReceiving objects:  36% (272/755)   \rReceiving objects:  37% (280/755)   \rReceiving objects:  38% (287/755)   \rReceiving objects:  39% (295/755)   \rReceiving objects:  40% (302/755)   \rReceiving objects:  41% (310/755)   \rReceiving objects:  42% (318/755)   \rReceiving objects:  43% (325/755)   \rReceiving objects:  44% (333/755)   \rReceiving objects:  45% (340/755)   \rReceiving objects:  46% (348/755)   \rReceiving objects:  47% (355/755)   \rReceiving objects:  48% (363/755)   \rReceiving objects:  49% (370/755)   \rReceiving objects:  50% (378/755)   \rReceiving objects:  51% (386/755)   \rReceiving objects:  52% (393/755)   \rReceiving objects:  53% (401/755)   \rReceiving objects:  54% (408/755)   \rReceiving objects:  55% (416/755)   \rReceiving objects:  56% (423/755)   \rReceiving objects:  57% (431/755)   \rReceiving objects:  58% (438/755)   \rReceiving objects:  59% (446/755)   \rReceiving objects:  60% (453/755)   \rReceiving objects:  61% (461/755)   \rReceiving objects:  62% (469/755)   \rReceiving objects:  63% (476/755)   \rReceiving objects:  64% (484/755)   \rReceiving objects:  65% (491/755)   \rReceiving objects:  66% (499/755)   \rReceiving objects:  67% (506/755)   \rReceiving objects:  68% (514/755)   \rReceiving objects:  69% (521/755)   \rReceiving objects:  70% (529/755)   \rReceiving objects:  71% (537/755)   \rReceiving objects:  72% (544/755)   \rReceiving objects:  73% (552/755)   \rReceiving objects:  74% (559/755)   \rReceiving objects:  75% (567/755)   \rReceiving objects:  76% (574/755)   \rReceiving objects:  77% (582/755)   \rReceiving objects:  78% (589/755)   \rReceiving objects:  79% (597/755)   \rReceiving objects:  80% (604/755)   \rReceiving objects:  81% (612/755)   \rReceiving objects:  82% (620/755)   \rReceiving objects:  83% (627/755)   \rReceiving objects:  84% (635/755)   \rReceiving objects:  85% (642/755)   \rReceiving objects:  86% (650/755)   \rReceiving objects:  87% (657/755)   \rReceiving objects:  88% (665/755)   \rremote: Total 755 (delta 67), reused 0 (delta 0), pack-reused 637\u001b[K\n",
            "Receiving objects:  89% (672/755)   \rReceiving objects:  90% (680/755)   \rReceiving objects:  91% (688/755)   \rReceiving objects:  92% (695/755)   \rReceiving objects:  93% (703/755)   \rReceiving objects:  94% (710/755)   \rReceiving objects:  95% (718/755)   \rReceiving objects:  96% (725/755)   \rReceiving objects:  97% (733/755)   \rReceiving objects:  98% (740/755)   \rReceiving objects:  99% (748/755)   \rReceiving objects: 100% (755/755)   \rReceiving objects: 100% (755/755), 2.61 MiB | 28.17 MiB/s, done.\n",
            "Resolving deltas:   0% (0/394)   \rResolving deltas:   1% (4/394)   \rResolving deltas:   2% (8/394)   \rResolving deltas:  13% (52/394)   \rResolving deltas:  19% (77/394)   \rResolving deltas:  23% (94/394)   \rResolving deltas:  27% (108/394)   \rResolving deltas:  31% (126/394)   \rResolving deltas:  47% (186/394)   \rResolving deltas:  48% (190/394)   \rResolving deltas:  49% (195/394)   \rResolving deltas:  50% (199/394)   \rResolving deltas:  51% (201/394)   \rResolving deltas:  52% (205/394)   \rResolving deltas:  72% (285/394)   \rResolving deltas:  73% (290/394)   \rResolving deltas:  75% (298/394)   \rResolving deltas:  76% (300/394)   \rResolving deltas:  77% (304/394)   \rResolving deltas:  80% (318/394)   \rResolving deltas:  81% (320/394)   \rResolving deltas:  86% (342/394)   \rResolving deltas:  88% (348/394)   \rResolving deltas:  89% (351/394)   \rResolving deltas:  94% (372/394)   \rResolving deltas:  95% (375/394)   \rResolving deltas:  98% (388/394)   \rResolving deltas: 100% (394/394)   \rResolving deltas: 100% (394/394), done.\n"
          ],
          "name": "stdout"
        }
      ]
    },
    {
      "cell_type": "code",
      "metadata": {
        "id": "BJIYmRn70Edr",
        "colab_type": "code",
        "outputId": "1f0c8046-2400-4228-b7f8-8fe86c7a6cc7",
        "colab": {
          "base_uri": "https://localhost:8080/",
          "height": 33
        }
      },
      "source": [
        "cd summer_project/src/"
      ],
      "execution_count": 7,
      "outputs": [
        {
          "output_type": "stream",
          "text": [
            "/content/summer_project/src/summer_project/src\n"
          ],
          "name": "stdout"
        }
      ]
    },
    {
      "cell_type": "code",
      "metadata": {
        "id": "Qyv_ETAM0HYd",
        "colab_type": "code",
        "outputId": "7e38370f-be1a-416f-c7fe-373ac2fab360",
        "colab": {
          "base_uri": "https://localhost:8080/",
          "height": 385
        }
      },
      "source": [
        "pip install ipdb"
      ],
      "execution_count": 4,
      "outputs": [
        {
          "output_type": "stream",
          "text": [
            "Collecting ipdb\n",
            "  Downloading https://files.pythonhosted.org/packages/5c/01/27427b1f4a97455b345297a48761544bc8e7fb1f3aef6904ec86ddf75f65/ipdb-0.12.3.tar.gz\n",
            "Requirement already satisfied: setuptools in /usr/local/lib/python3.6/dist-packages (from ipdb) (42.0.2)\n",
            "Requirement already satisfied: ipython>=5.1.0 in /usr/local/lib/python3.6/dist-packages (from ipdb) (5.5.0)\n",
            "Requirement already satisfied: traitlets>=4.2 in /usr/local/lib/python3.6/dist-packages (from ipython>=5.1.0->ipdb) (4.3.3)\n",
            "Requirement already satisfied: pickleshare in /usr/local/lib/python3.6/dist-packages (from ipython>=5.1.0->ipdb) (0.7.5)\n",
            "Requirement already satisfied: prompt-toolkit<2.0.0,>=1.0.4 in /usr/local/lib/python3.6/dist-packages (from ipython>=5.1.0->ipdb) (1.0.18)\n",
            "Requirement already satisfied: simplegeneric>0.8 in /usr/local/lib/python3.6/dist-packages (from ipython>=5.1.0->ipdb) (0.8.1)\n",
            "Requirement already satisfied: pygments in /usr/local/lib/python3.6/dist-packages (from ipython>=5.1.0->ipdb) (2.1.3)\n",
            "Requirement already satisfied: pexpect; sys_platform != \"win32\" in /usr/local/lib/python3.6/dist-packages (from ipython>=5.1.0->ipdb) (4.7.0)\n",
            "Requirement already satisfied: decorator in /usr/local/lib/python3.6/dist-packages (from ipython>=5.1.0->ipdb) (4.4.1)\n",
            "Requirement already satisfied: ipython-genutils in /usr/local/lib/python3.6/dist-packages (from traitlets>=4.2->ipython>=5.1.0->ipdb) (0.2.0)\n",
            "Requirement already satisfied: six in /usr/local/lib/python3.6/dist-packages (from traitlets>=4.2->ipython>=5.1.0->ipdb) (1.12.0)\n",
            "Requirement already satisfied: wcwidth in /usr/local/lib/python3.6/dist-packages (from prompt-toolkit<2.0.0,>=1.0.4->ipython>=5.1.0->ipdb) (0.1.8)\n",
            "Requirement already satisfied: ptyprocess>=0.5 in /usr/local/lib/python3.6/dist-packages (from pexpect; sys_platform != \"win32\"->ipython>=5.1.0->ipdb) (0.6.0)\n",
            "Building wheels for collected packages: ipdb\n",
            "  Building wheel for ipdb (setup.py) ... \u001b[?25l\u001b[?25hdone\n",
            "  Created wheel for ipdb: filename=ipdb-0.12.3-cp36-none-any.whl size=9223 sha256=25e605363b4ae2686a9452881d8d811eaee7b12732649acf59d9a7d40eb865b7\n",
            "  Stored in directory: /root/.cache/pip/wheels/57/43/c5/614153606de8f5e358e266723f53254e70752f4ffc8c85ec63\n",
            "Successfully built ipdb\n",
            "Installing collected packages: ipdb\n",
            "Successfully installed ipdb-0.12.3\n"
          ],
          "name": "stdout"
        }
      ]
    },
    {
      "cell_type": "code",
      "metadata": {
        "id": "29GrTfMNAuy1",
        "colab_type": "code",
        "colab": {}
      },
      "source": [
        "import numpy as np\n",
        "import time\n",
        "import ipdb\n",
        "import torch\n",
        "import torch.nn as nn\n",
        "import itertools\n",
        "import matplotlib.pyplot as plt\n",
        "\n",
        "import itertools\n",
        "def deep_iter(*shape):\n",
        "    iters = (range(i) for i in shape)\n",
        "    return itertools.product(*iters)\n",
        "        \n",
        "        \n",
        "\n",
        "class Pde:\n",
        "    def __init__(\n",
        "            self,\n",
        "            dim=1,\n",
        "            lam=0.0,\n",
        "            drift = lambda s,a: np.array([0.]),\n",
        "            run_cost = lambda s,a: -1.0,\n",
        "            term_cost = lambda s: sum(map(lambda a: 0.5*a**2 - 0.5*a, s)),\n",
        "            limit_s = 1.0, #l-infinity limit for state\n",
        "            limit_a = 0, #l-infinity limit for action\n",
        "            verbose=True\n",
        "    ):\n",
        "        self.dim = dim\n",
        "        self.lam = lam\n",
        "        self.drift = drift\n",
        "        self.run_cost = run_cost\n",
        "        self.term_cost = term_cost            \n",
        "        self.limit_s = limit_s\n",
        "        self.limit_a = limit_a\n",
        "\n",
        "        if verbose:\n",
        "            print(str(dim) + '-dim HJB')\n",
        "    \n",
        "    #domain is a unit hyper cube        \n",
        "    def is_interior(self, s):\n",
        "        return all(0<s<1)\n",
        "    \n",
        "    #cfd2mdp\n",
        "    def mdp(self, n_mesh_s = 8, n_mesh_a = 16, method='cfd'):\n",
        "        out = {}\n",
        "        \n",
        "        ####domain of mdp\n",
        "        h_s = self.limit_s/n_mesh_s #mesh size in state\n",
        "        h_a = self.limit_a/n_mesh_a #mesh size in action\n",
        "        self.v_shape = tuple([n_mesh_s + 1]*self.dim)\n",
        "        self.a_shape = tuple([n_mesh_a + 1]*self.dim)\n",
        "        \n",
        "        def is_interior(*ix_s):\n",
        "            return all([0<x<n_mesh_s for x in ix_s])\n",
        "        \n",
        "        out.update({\n",
        "                'v_shape': self.v_shape,\n",
        "                'a_shape': self.a_shape,\n",
        "                'is_interior': is_interior\n",
        "                })\n",
        "        ####domain\n",
        " \n",
        "       # convert index(tuple) to state\n",
        "        def i2s(*ix): \n",
        "            return np.array([x * h_s for x in ix])       \n",
        "        out['i2s'] = i2s\n",
        "        #convert index to action\n",
        "        def i2a(*ix):\n",
        "            return np.array([x * h_a for x in ix])\n",
        "        #out['i2a'] = i2a\n",
        "\n",
        "\n",
        "       \n",
        "        ########running and terminal costs and discount rate\n",
        "        def run_cost(ix_s,ix_a):\n",
        "            return self.run_cost(i2s(*ix_s), i2a(*ix_a))*h_s**2/self.dim\n",
        "        \n",
        "        def term_cost(ix_s):\n",
        "            return self.term_cost(i2s(*ix_s))\n",
        "        \n",
        "        rate = self.dim/(self.dim+self.lam*(h_s**2))\n",
        "        out.update({\n",
        "                'run_cost': run_cost,\n",
        "                'term_cost': term_cost,\n",
        "                'rate': rate\n",
        "                })\n",
        "        #########\n",
        "        \n",
        "        #####transition\n",
        "        #return:\n",
        "        #   a list of nbd indices\n",
        "        #   a list of prob\n",
        "        def step(ix_s, ix_a):\n",
        "            ix_next_s_up = (np.array(ix_s)+np.eye(self.dim)).astype(int).tolist()\n",
        "            ix_next_s_dn = (np.array(ix_s)-np.eye(self.dim)).astype(int).tolist()\n",
        "            ix_next_s = [tuple(ix) for ix in ix_next_s_up+ix_next_s_dn]\n",
        "            \n",
        "            pr=[]\n",
        "            if method == 'cfd':\n",
        "                b = self.drift(i2s(*ix_s), i2a(*ix_a))\n",
        "                pr_up = ((1+2.*h_s*b)/self.dim/2.0).tolist()\n",
        "                pr_dn = ((1-2.*h_s*b)/self.dim/2.0).tolist()\n",
        "                pr = pr_up+pr_dn\n",
        "            \n",
        "            return ix_next_s, pr, run_cost(ix_s,ix_a)\n",
        "        out.update({'step': step,\n",
        "                    'dim': self.dim})\n",
        "\n",
        "        \n",
        "        def bellman(ix, ia, v):\n",
        "            s = i2s(*ix)\n",
        "            disc = rate\n",
        "            ix_next, pr_next,run_h = step(ix,ia)\n",
        "            lhs = v(torch.FloatTensor(s)); rhs = 0.\n",
        "            #ipdb.set_trace()\n",
        "            if is_interior(*ix):            \n",
        "                rhs += run_h \n",
        "                for ix1, pr1 in zip(ix_next, pr_next):\n",
        "                    rhs += pr1*v(torch.FloatTensor(i2s(*ix1)))\n",
        "                rhs *= disc\n",
        "                res = (rhs - lhs)\n",
        "            else:\n",
        "                rhs = self.term_cost(ix)\n",
        "                res = (rhs - lhs)\n",
        "            return res\n",
        "        out.update({\n",
        "                'bellman': bellman\n",
        "                })\n",
        "    \n",
        "        return out\n",
        "\n",
        "def solver(mdp, n_epoch = 500):\n",
        "    ######### nn for value\n",
        "    # Linear regression model\n",
        "    value = nn.Sequential(\n",
        "        nn.Linear(mdp['dim'], 2*mdp['dim']+10),\n",
        "        #nn.functional.gelu(),\n",
        "        nn.ReLU(),\n",
        "        nn.Linear(2*mdp['dim']+10, 2*mdp['dim']+10),\n",
        "        nn.ReLU(),\n",
        "        nn.Linear(2*mdp['dim']+10, 1)\n",
        "    )   \n",
        "    print(value)\n",
        "    #loss\n",
        "    def tot_loss():\n",
        "        out = 0.\n",
        "      \n",
        "        for ix in deep_iter(*mdp['v_shape']):\n",
        "          ia = tuple([0]*mdp['dim'])\n",
        "          if m['is_interior'](*ix):\n",
        "            #out += abs(mdp['term_cost'](ix) - value(torch.FloatTensor(mdp['i2s'](*ix))))\n",
        "            out += mdp['bellman'](ix,ia,value)**2\n",
        "        boundy1 = tuple([0]*mdp['dim'])\n",
        "        boundy2 = tuple([9]*mdp['dim'])\n",
        "        add1 = (mdp['term_cost'](mdp['i2s'](*boundy2)) - value(torch.FloatTensor(mdp['i2s'](*boundy1))))**2\n",
        "        add2 = (mdp['term_cost'](mdp['i2s'](*boundy2)) - value(torch.FloatTensor(mdp['i2s'](*boundy2))))**2\n",
        "        return 500*out + 40*add1 + 40*add2#/mdp.v_size_\n",
        "    \n",
        "    print_n = 10\n",
        "    epoch_per_print= int(n_epoch/print_n)\n",
        "    \n",
        "    start_time = time.time()\n",
        "    for epoch in range(n_epoch):\n",
        "        #ipdb.set_trace()\n",
        "        loss = tot_loss() #forward pass\n",
        "        #backward propogation\n",
        "        # optimizer\n",
        "        lr = max(1/((epoch+100.)), .0001)\n",
        "        optimizer = torch.optim.SGD(value.parameters(), lr, momentum = .8) \n",
        "        optimizer.zero_grad()\n",
        "        loss.backward()\n",
        "        optimizer.step()\n",
        "        \n",
        "        if (epoch+1) % epoch_per_print == 0:\n",
        "          print('Epoch [{}/{}], Loss: {:.4f}'.format(\n",
        "                  epoch+1, n_epoch, loss.item()))\n",
        "        if loss.item()<0.0002:\n",
        "            break\n",
        "    end_time = time.time()\n",
        "    print('>>>time elapsed is: ' + str(end_time - start_time))\n",
        "    return value"
      ],
      "execution_count": 0,
      "outputs": []
    },
    {
      "cell_type": "code",
      "metadata": {
        "id": "8w0bNTJB0OuN",
        "colab_type": "code",
        "outputId": "d0ea4021-8c74-4ff0-aa91-4ab91c77fa53",
        "colab": {
          "base_uri": "https://localhost:8080/",
          "height": 582
        }
      },
      "source": [
        "torch.manual_seed(0)\n",
        "p = Pde(dim=1) \n",
        "m = p.mdp(n_mesh_s= 8)\n",
        "value = solver(m, n_epoch=2000)\n",
        "######check solution\n",
        "err =0\n",
        "for ix1 in deep_iter(*m['v_shape']):\n",
        "    s1 = m['i2s'](*ix1)\n",
        "    v1 = value(torch.FloatTensor(s1)).item()\n",
        "    exact_v1 =p.term_cost(s1) \n",
        "    err1 = v1-exact_v1\n",
        "    err += err1**2\n",
        "\n",
        "#err = err/m.v_size_\n",
        "#print('>>>L2-error-norm: '+str(err))\n",
        "\n",
        "\n",
        "if p.dim ==1:\n",
        "    cod_x = []; cod_y=[]; cod_y_pred = []\n",
        "    for ix1 in deep_iter(*m['v_shape']):\n",
        "        s1 = m['i2s'](*ix1); cod_x += [s1,]\n",
        "        v1 = value(torch.FloatTensor(s1)).item(); cod_y_pred += [v1,]\n",
        "        exact_v1 =p.term_cost(s1); cod_y += [exact_v1,]\n",
        "\n",
        "    plt.plot(cod_x, cod_y, cod_x, cod_y_pred)\n"
      ],
      "execution_count": 136,
      "outputs": [
        {
          "output_type": "stream",
          "text": [
            "1-dim HJB\n",
            "Sequential(\n",
            "  (0): Linear(in_features=1, out_features=12, bias=True)\n",
            "  (1): ReLU()\n",
            "  (2): Linear(in_features=12, out_features=12, bias=True)\n",
            "  (3): ReLU()\n",
            "  (4): Linear(in_features=12, out_features=1, bias=True)\n",
            ")\n",
            "Epoch [200/2000], Loss: 0.7563\n",
            "Epoch [400/2000], Loss: 0.6975\n",
            "Epoch [600/2000], Loss: 0.6194\n",
            "Epoch [800/2000], Loss: 0.5626\n",
            "Epoch [1000/2000], Loss: 0.5134\n",
            "Epoch [1200/2000], Loss: 0.4183\n",
            "Epoch [1400/2000], Loss: 0.3607\n",
            "Epoch [1600/2000], Loss: 0.3140\n",
            "Epoch [1800/2000], Loss: 0.2760\n",
            "Epoch [2000/2000], Loss: 0.2453\n",
            ">>>time elapsed is: 16.399884462356567\n"
          ],
          "name": "stdout"
        },
        {
          "output_type": "display_data",
          "data": {
            "image/png": "[encoded data removed]",
            "text/plain": [
              "<Figure size 432x288 with 1 Axes>"
            ]
          },
          "metadata": {
            "tags": []
          }
        }
      ]
    },
    {
      "cell_type": "code",
      "metadata": {
        "id": "k6vdIASX6bmC",
        "colab_type": "code",
        "outputId": "8494bd84-323e-4c0c-bf8d-474ae941b5e2",
        "colab": {
          "base_uri": "https://localhost:8080/",
          "height": 265
        }
      },
      "source": [
        "\n",
        "if p.dim ==1:\n",
        "    cod_x = []; cod_y=[]; cod_y_pred = []\n",
        "    for ix1 in deep_iter(*m['v_shape']):\n",
        "        s1 = m['i2s'](*ix1); cod_x += [s1,]\n",
        "        v1 = value(torch.FloatTensor(s1)).item(); cod_y_pred += [v1,]\n",
        "        exact_v1 =p.term_cost(s1); cod_y += [exact_v1,]\n",
        "\n",
        "    plt.plot(cod_x, cod_y_pred)"
      ],
      "execution_count": 137,
      "outputs": [
        {
          "output_type": "display_data",
          "data": {
            "image/png": "[encoded data removed]",
            "text/plain": [
              "<Figure size 432x288 with 1 Axes>"
            ]
          },
          "metadata": {
            "tags": []
          }
        }
      ]
    },
    {
      "cell_type": "code",
      "metadata": {
        "id": "t1Rh7a0HIwqj",
        "colab_type": "code",
        "outputId": "77a0a148-f0de-489e-e3d2-8ef4564a25a4",
        "colab": {
          "base_uri": "https://localhost:8080/",
          "height": 281
        }
      },
      "source": [
        "plt.plot(cod_x, cod_y)"
      ],
      "execution_count": 138,
      "outputs": [
        {
          "output_type": "execute_result",
          "data": {
            "text/plain": [
              "[<matplotlib.lines.Line2D at 0x7f6d2f24add8>]"
            ]
          },
          "metadata": {
            "tags": []
          },
          "execution_count": 138
        },
        {
          "output_type": "display_data",
          "data": {
            "image/png": "[encoded data removed]",
            "text/plain": [
              "<Figure size 432x288 with 1 Axes>"
            ]
          },
          "metadata": {
            "tags": []
          }
        }
      ]
    }
  ]
}